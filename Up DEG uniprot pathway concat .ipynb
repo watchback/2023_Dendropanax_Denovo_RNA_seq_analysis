{
 "cells": [
  {
   "cell_type": "code",
   "execution_count": 3,
   "id": "59c54fb7",
   "metadata": {},
   "outputs": [],
   "source": [
    "import os\n",
    "import pandas as pd\n",
    "\n",
    "folder_path = '/Users/csb/Desktop/Project/황칠 Transcriptome/황칠 compound Uniprot/uniprot_up_pathway/'  # 실제 경로로 변경해주세요\n",
    "\n",
    "# 결과를 저장할 엑셀 파일\n",
    "output_file = '/Users/csb/Desktop/Uniprot_up_all.csv'\n",
    "\n",
    "# up DD 파일이 이미 존재하면 불러오기, 없으면 빈 DataFrame 생성\n",
    "if os.path.exists(output_file):\n",
    "    up_dd_df = pd.read_csv(output_file)\n",
    "else:\n",
    "    up_dd_df = pd.DataFrame()"
   ]
  },
  {
   "cell_type": "code",
   "execution_count": 4,
   "id": "8bc8ef67",
   "metadata": {},
   "outputs": [
    {
     "name": "stdout",
     "output_type": "stream",
     "text": [
      "작업 완료~\n"
     ]
    }
   ],
   "source": [
    "for filename in os.listdir(folder_path):\n",
    "    if filename.endswith('.csv'):\n",
    "        file_path = os.path.join(folder_path, filename)\n",
    "\n",
    "        # CSV 파일 읽기\n",
    "        df = pd.read_csv(file_path)\n",
    "\n",
    "        # 헤더 제거 후 up DD DataFrame에 추가\n",
    "        up_dd_df = pd.concat([up_dd_df, df], ignore_index=True, sort=False)\n",
    "up_dd_df.to_csv(output_file, index=False)\n",
    "print(\"작업 완료~\")"
   ]
  },
  {
   "cell_type": "code",
   "execution_count": null,
   "id": "0d598b82",
   "metadata": {},
   "outputs": [],
   "source": []
  }
 ],
 "metadata": {
  "kernelspec": {
   "display_name": "Python 3 (ipykernel)",
   "language": "python",
   "name": "python3"
  },
  "language_info": {
   "codemirror_mode": {
    "name": "ipython",
    "version": 3
   },
   "file_extension": ".py",
   "mimetype": "text/x-python",
   "name": "python",
   "nbconvert_exporter": "python",
   "pygments_lexer": "ipython3",
   "version": "3.11.5"
  }
 },
 "nbformat": 4,
 "nbformat_minor": 5
}
